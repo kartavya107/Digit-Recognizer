{
 "cells": [
  {
   "cell_type": "code",
   "execution_count": 148,
   "id": "initial_id",
   "metadata": {
    "collapsed": true,
    "ExecuteTime": {
     "end_time": "2024-04-11T15:21:32.251364600Z",
     "start_time": "2024-04-11T15:21:32.230393900Z"
    }
   },
   "outputs": [],
   "source": [
    "import pandas as pd\n",
    "import numpy as np\n",
    "import matplotlib.pyplot as plt"
   ]
  },
  {
   "cell_type": "code",
   "outputs": [],
   "source": [
    "train = pd.read_csv('digit-recognizer/train.csv')\n",
    "test = pd.read_csv('digit-recognizer/test.csv')"
   ],
   "metadata": {
    "collapsed": false,
    "ExecuteTime": {
     "end_time": "2024-04-11T15:21:36.263998900Z",
     "start_time": "2024-04-11T15:21:32.405777400Z"
    }
   },
   "id": "dd431c3592dd58a9",
   "execution_count": 149
  },
  {
   "cell_type": "code",
   "outputs": [
    {
     "data": {
      "text/plain": "(42000, 785)"
     },
     "execution_count": 150,
     "metadata": {},
     "output_type": "execute_result"
    }
   ],
   "source": [
    "train.shape"
   ],
   "metadata": {
    "collapsed": false,
    "ExecuteTime": {
     "end_time": "2024-04-11T15:21:36.275323900Z",
     "start_time": "2024-04-11T15:21:36.266106800Z"
    }
   },
   "id": "ac6b00bdaeb95a37",
   "execution_count": 150
  },
  {
   "cell_type": "code",
   "outputs": [
    {
     "data": {
      "text/plain": "(28000, 784)"
     },
     "execution_count": 151,
     "metadata": {},
     "output_type": "execute_result"
    }
   ],
   "source": [
    "test.shape"
   ],
   "metadata": {
    "collapsed": false,
    "ExecuteTime": {
     "end_time": "2024-04-11T15:21:36.366136100Z",
     "start_time": "2024-04-11T15:21:36.274153700Z"
    }
   },
   "id": "f01dc4ec8cdd0ef4",
   "execution_count": 151
  },
  {
   "cell_type": "code",
   "outputs": [],
   "source": [
    "# Converting the datasets to np.ndarray for further calculations\n",
    "train = np.array(train)\n",
    "test = np.array(test)"
   ],
   "metadata": {
    "collapsed": false,
    "ExecuteTime": {
     "end_time": "2024-04-11T15:21:36.569496200Z",
     "start_time": "2024-04-11T15:21:36.360693200Z"
    }
   },
   "id": "dac0258c5f6ef309",
   "execution_count": 152
  },
  {
   "cell_type": "code",
   "outputs": [
    {
     "data": {
      "text/plain": "array([[1, 0, 0, ..., 0, 0, 0],\n       [0, 0, 0, ..., 0, 0, 0],\n       [1, 0, 0, ..., 0, 0, 0],\n       ...,\n       [7, 0, 0, ..., 0, 0, 0],\n       [6, 0, 0, ..., 0, 0, 0],\n       [9, 0, 0, ..., 0, 0, 0]], dtype=int64)"
     },
     "execution_count": 153,
     "metadata": {},
     "output_type": "execute_result"
    }
   ],
   "source": [
    "train"
   ],
   "metadata": {
    "collapsed": false,
    "ExecuteTime": {
     "end_time": "2024-04-11T15:21:36.583102100Z",
     "start_time": "2024-04-11T15:21:36.573727500Z"
    }
   },
   "id": "185b71231d766886",
   "execution_count": 153
  },
  {
   "cell_type": "code",
   "outputs": [],
   "source": [
    "# Shuffle train\n",
    "np.random.shuffle(train)\n",
    "m,n = train.shape\n",
    "\n",
    "# 20% -> 8400 for cross-validation\n",
    "cv_data = train[:8400, :].T\n",
    "cv_X = cv_data[1:, :]\n",
    "cv_X = cv_X / 255.0\n",
    "cv_y = cv_data[0, :]\n",
    "\n",
    "# Remaining for training\n",
    "train_train = train[8400:, :].T\n",
    "train_X = train_train[1:, :]\n",
    "train_X = train_X / 255.0\n",
    "train_y = train_train[0, :]"
   ],
   "metadata": {
    "collapsed": false,
    "ExecuteTime": {
     "end_time": "2024-04-11T15:41:34.097701400Z",
     "start_time": "2024-04-11T15:41:32.372567200Z"
    }
   },
   "id": "977c32ca04147161",
   "execution_count": 186
  },
  {
   "cell_type": "code",
   "outputs": [
    {
     "data": {
      "text/plain": "(784, 33600)"
     },
     "execution_count": 187,
     "metadata": {},
     "output_type": "execute_result"
    }
   ],
   "source": [
    "train_X.shape"
   ],
   "metadata": {
    "collapsed": false,
    "ExecuteTime": {
     "end_time": "2024-04-11T15:41:35.380140200Z",
     "start_time": "2024-04-11T15:41:35.332148800Z"
    }
   },
   "id": "95f6217f089245ce",
   "execution_count": 187
  },
  {
   "cell_type": "code",
   "outputs": [
    {
     "data": {
      "text/plain": "(33600,)"
     },
     "execution_count": 188,
     "metadata": {},
     "output_type": "execute_result"
    }
   ],
   "source": [
    "train_y.shape"
   ],
   "metadata": {
    "collapsed": false,
    "ExecuteTime": {
     "end_time": "2024-04-11T15:41:36.659826200Z",
     "start_time": "2024-04-11T15:41:36.618520400Z"
    }
   },
   "id": "ef4f3f188f85171b",
   "execution_count": 188
  },
  {
   "cell_type": "code",
   "outputs": [
    {
     "data": {
      "text/plain": "array([1, 0, 4, ..., 8, 8, 4], dtype=int64)"
     },
     "execution_count": 189,
     "metadata": {},
     "output_type": "execute_result"
    }
   ],
   "source": [
    "train_y"
   ],
   "metadata": {
    "collapsed": false,
    "ExecuteTime": {
     "end_time": "2024-04-11T15:41:39.466640300Z",
     "start_time": "2024-04-11T15:41:39.445025300Z"
    }
   },
   "id": "ec5e75e50760f111",
   "execution_count": 189
  },
  {
   "cell_type": "code",
   "outputs": [],
   "source": [
    "def initialize_params():\n",
    "    W1 = np.random.rand(10,784)-0.5\n",
    "    b1 = np.random.rand(10,1)-0.5\n",
    "    \n",
    "    W2 = np.random.rand(10,10)-0.5\n",
    "    b2 = np.random.rand(10,1)-0.5\n",
    "    \n",
    "    return W1, b1, W2, b2"
   ],
   "metadata": {
    "collapsed": false,
    "ExecuteTime": {
     "end_time": "2024-04-11T15:41:42.333990500Z",
     "start_time": "2024-04-11T15:41:42.322519200Z"
    }
   },
   "id": "3ddd9153d9ae04fb",
   "execution_count": 190
  },
  {
   "cell_type": "code",
   "outputs": [],
   "source": [
    "def relu(Z):\n",
    "    return np.maximum(Z,0)\n",
    "\n",
    "\n",
    "def relu_deriv(Z):\n",
    "    return Z > 0\n",
    "\n",
    "\n",
    "def softmax(Z):\n",
    "    A = np.exp(Z) / sum(np.exp(Z))\n",
    "    return A"
   ],
   "metadata": {
    "collapsed": false,
    "ExecuteTime": {
     "end_time": "2024-04-11T15:45:56.798147500Z",
     "start_time": "2024-04-11T15:45:56.787885200Z"
    }
   },
   "id": "800af7f6ed3bcdff",
   "execution_count": 204
  },
  {
   "cell_type": "code",
   "outputs": [],
   "source": [
    "def forward_prop(X, W1, b1, W2, b2):\n",
    "    Z1 = W1@X + b1\n",
    "    A1 = relu(Z1)\n",
    "    \n",
    "    Z2 = W2@A1 + b2\n",
    "    A2 = softmax(Z2)\n",
    "    \n",
    "    return Z1, A1, Z2, A2\n",
    "\n",
    "\n",
    "def one_hot(Y):\n",
    "    one_hot_Y = np.zeros((Y.size, Y.max() + 1))\n",
    "    one_hot_Y[np.arange(Y.size), Y] = 1\n",
    "    one_hot_Y = one_hot_Y.T\n",
    "    \n",
    "    return one_hot_Y\n",
    "\n",
    "\n",
    "def backward_prop(X, Y, W1, b1, W2, b2, Z1, A1, Z2, A2):\n",
    "    yo = one_hot(Y)\n",
    "    dZ2 = A2 - yo\n",
    "    dW2 = (1/m)*(dZ2@A1.T)\n",
    "    dB2 = (1/m)*(np.sum(dZ2))\n",
    "    \n",
    "    dZ1 = (W2.T@dZ2) * (relu_deriv(Z1))\n",
    "    dW1 = (1/m)*(dZ1@X.T)\n",
    "    dB1 = (1/m)*(np.sum(dZ1))\n",
    "    \n",
    "    return dW2, dB2,  dW1, dB1\n",
    "\n",
    "\n",
    "def update_params(W1, b1, W2, b2, dW2, dB2, dW1, dB1, alpha=0.1):\n",
    "    W2 -= alpha*(dW2)\n",
    "    b2 -= alpha*(dB2)\n",
    "    \n",
    "    W1 -= alpha*(dW1)\n",
    "    b1 -= alpha*(dB1)\n",
    "    \n",
    "    return W1, b1, W2, b2\n",
    "\n",
    "def get_accuracy(predictions, Y):\n",
    "    print(f'Predictions: {predictions}')\n",
    "    print(f'Actual: {Y}')\n",
    "    return np.sum(predictions == Y) / Y.size\n",
    "\n",
    "\n",
    "def get_predictions(A2):\n",
    "    return np.argmax(A2, 0)"
   ],
   "metadata": {
    "collapsed": false,
    "ExecuteTime": {
     "end_time": "2024-04-11T15:42:30.141945100Z",
     "start_time": "2024-04-11T15:42:29.928553600Z"
    }
   },
   "id": "65219dcc2f7dff19",
   "execution_count": 192
  },
  {
   "cell_type": "code",
   "outputs": [],
   "source": [
    "def train_model(X, Y, iterations=500, alpha=0.1):\n",
    "    W1, b1, W2, b2 = initialize_params()\n",
    "    for i in range(iterations + 1):\n",
    "        Z1, A1, Z2, A2 = forward_prop(X, W1, b1, W2, b2)\n",
    "        dW2, dB2,  dW1, dB1 = backward_prop(X, Y, W1, b1, W2, b2, Z1, A1, Z2, A2)\n",
    "        W1, b1, W2, b2 = update_params(W1, b1, W2, b2, dW2, dB2, dW1, dB1, alpha)\n",
    "        \n",
    "        if i%10 == 0:\n",
    "            print(f'Iteration: {i}')\n",
    "            predictions = get_predictions(A2)\n",
    "            print(f'Accuracy: {get_accuracy(predictions, Y)}')\n",
    "    \n",
    "    return W1, b1, W2, b2"
   ],
   "metadata": {
    "collapsed": false,
    "ExecuteTime": {
     "end_time": "2024-04-11T15:42:30.656299300Z",
     "start_time": "2024-04-11T15:42:30.631604500Z"
    }
   },
   "id": "aadac0c9d1572b04",
   "execution_count": 193
  },
  {
   "cell_type": "code",
   "outputs": [
    {
     "name": "stdout",
     "output_type": "stream",
     "text": [
      "Iteration: 0\n",
      "Predictions: [4 5 4 ... 2 5 4]\n",
      "Actual: [1 0 4 ... 8 8 4]\n",
      "Accuracy: 0.12160714285714286\n",
      "Iteration: 10\n",
      "Predictions: [4 0 4 ... 6 1 4]\n",
      "Actual: [1 0 4 ... 8 8 4]\n",
      "Accuracy: 0.21833333333333332\n",
      "Iteration: 20\n",
      "Predictions: [1 0 4 ... 0 1 4]\n",
      "Actual: [1 0 4 ... 8 8 4]\n",
      "Accuracy: 0.30782738095238094\n",
      "Iteration: 30\n",
      "Predictions: [1 0 4 ... 0 8 4]\n",
      "Actual: [1 0 4 ... 8 8 4]\n",
      "Accuracy: 0.3689880952380952\n",
      "Iteration: 40\n",
      "Predictions: [1 0 4 ... 0 8 4]\n",
      "Actual: [1 0 4 ... 8 8 4]\n",
      "Accuracy: 0.41604166666666664\n",
      "Iteration: 50\n",
      "Predictions: [1 0 4 ... 0 8 4]\n",
      "Actual: [1 0 4 ... 8 8 4]\n",
      "Accuracy: 0.4555059523809524\n",
      "Iteration: 60\n",
      "Predictions: [1 0 4 ... 0 8 4]\n",
      "Actual: [1 0 4 ... 8 8 4]\n",
      "Accuracy: 0.4963690476190476\n",
      "Iteration: 70\n",
      "Predictions: [1 0 4 ... 0 8 4]\n",
      "Actual: [1 0 4 ... 8 8 4]\n",
      "Accuracy: 0.535625\n",
      "Iteration: 80\n",
      "Predictions: [1 0 4 ... 0 8 4]\n",
      "Actual: [1 0 4 ... 8 8 4]\n",
      "Accuracy: 0.5689583333333333\n",
      "Iteration: 90\n",
      "Predictions: [1 0 4 ... 0 6 4]\n",
      "Actual: [1 0 4 ... 8 8 4]\n",
      "Accuracy: 0.5964880952380952\n",
      "Iteration: 100\n",
      "Predictions: [1 0 4 ... 0 6 4]\n",
      "Actual: [1 0 4 ... 8 8 4]\n",
      "Accuracy: 0.6200892857142857\n",
      "Iteration: 110\n",
      "Predictions: [1 0 4 ... 0 6 4]\n",
      "Actual: [1 0 4 ... 8 8 4]\n",
      "Accuracy: 0.6400297619047619\n",
      "Iteration: 120\n",
      "Predictions: [1 0 4 ... 0 6 4]\n",
      "Actual: [1 0 4 ... 8 8 4]\n",
      "Accuracy: 0.6597619047619048\n",
      "Iteration: 130\n",
      "Predictions: [1 0 4 ... 0 6 4]\n",
      "Actual: [1 0 4 ... 8 8 4]\n",
      "Accuracy: 0.6763392857142857\n",
      "Iteration: 140\n",
      "Predictions: [1 0 4 ... 0 6 4]\n",
      "Actual: [1 0 4 ... 8 8 4]\n",
      "Accuracy: 0.6911011904761905\n",
      "Iteration: 150\n",
      "Predictions: [1 0 4 ... 0 6 4]\n",
      "Actual: [1 0 4 ... 8 8 4]\n",
      "Accuracy: 0.7019940476190476\n",
      "Iteration: 160\n",
      "Predictions: [1 0 4 ... 0 6 4]\n",
      "Actual: [1 0 4 ... 8 8 4]\n",
      "Accuracy: 0.7121130952380952\n",
      "Iteration: 170\n",
      "Predictions: [1 0 4 ... 0 6 4]\n",
      "Actual: [1 0 4 ... 8 8 4]\n",
      "Accuracy: 0.7216369047619048\n",
      "Iteration: 180\n",
      "Predictions: [1 0 4 ... 0 6 4]\n",
      "Actual: [1 0 4 ... 8 8 4]\n",
      "Accuracy: 0.7304166666666667\n",
      "Iteration: 190\n",
      "Predictions: [1 0 4 ... 0 6 4]\n",
      "Actual: [1 0 4 ... 8 8 4]\n",
      "Accuracy: 0.7389285714285714\n",
      "Iteration: 200\n",
      "Predictions: [1 0 4 ... 0 6 4]\n",
      "Actual: [1 0 4 ... 8 8 4]\n",
      "Accuracy: 0.7465178571428571\n",
      "Iteration: 210\n",
      "Predictions: [1 0 4 ... 0 6 4]\n",
      "Actual: [1 0 4 ... 8 8 4]\n",
      "Accuracy: 0.7533630952380952\n",
      "Iteration: 220\n",
      "Predictions: [1 0 4 ... 0 6 4]\n",
      "Actual: [1 0 4 ... 8 8 4]\n",
      "Accuracy: 0.7596726190476191\n",
      "Iteration: 230\n",
      "Predictions: [1 0 4 ... 0 6 4]\n",
      "Actual: [1 0 4 ... 8 8 4]\n",
      "Accuracy: 0.7648511904761904\n",
      "Iteration: 240\n",
      "Predictions: [1 0 4 ... 0 6 4]\n",
      "Actual: [1 0 4 ... 8 8 4]\n",
      "Accuracy: 0.7702678571428572\n",
      "Iteration: 250\n",
      "Predictions: [1 0 4 ... 0 6 4]\n",
      "Actual: [1 0 4 ... 8 8 4]\n",
      "Accuracy: 0.775\n",
      "Iteration: 260\n",
      "Predictions: [1 0 4 ... 0 6 4]\n",
      "Actual: [1 0 4 ... 8 8 4]\n",
      "Accuracy: 0.7799404761904762\n",
      "Iteration: 270\n",
      "Predictions: [1 0 4 ... 0 6 4]\n",
      "Actual: [1 0 4 ... 8 8 4]\n",
      "Accuracy: 0.7844642857142857\n",
      "Iteration: 280\n",
      "Predictions: [1 0 4 ... 0 6 4]\n",
      "Actual: [1 0 4 ... 8 8 4]\n",
      "Accuracy: 0.7891369047619048\n",
      "Iteration: 290\n",
      "Predictions: [1 0 4 ... 0 6 4]\n",
      "Actual: [1 0 4 ... 8 8 4]\n",
      "Accuracy: 0.7929464285714286\n",
      "Iteration: 300\n",
      "Predictions: [1 0 4 ... 0 6 4]\n",
      "Actual: [1 0 4 ... 8 8 4]\n",
      "Accuracy: 0.7966964285714285\n",
      "Iteration: 310\n",
      "Predictions: [1 0 4 ... 0 6 4]\n",
      "Actual: [1 0 4 ... 8 8 4]\n",
      "Accuracy: 0.799970238095238\n",
      "Iteration: 320\n",
      "Predictions: [1 0 4 ... 0 6 4]\n",
      "Actual: [1 0 4 ... 8 8 4]\n",
      "Accuracy: 0.8029761904761905\n",
      "Iteration: 330\n",
      "Predictions: [1 0 4 ... 0 6 4]\n",
      "Actual: [1 0 4 ... 8 8 4]\n",
      "Accuracy: 0.8055654761904761\n",
      "Iteration: 340\n",
      "Predictions: [1 0 4 ... 0 6 4]\n",
      "Actual: [1 0 4 ... 8 8 4]\n",
      "Accuracy: 0.8078869047619047\n",
      "Iteration: 350\n",
      "Predictions: [1 0 4 ... 0 6 4]\n",
      "Actual: [1 0 4 ... 8 8 4]\n",
      "Accuracy: 0.8108928571428572\n",
      "Iteration: 360\n",
      "Predictions: [1 0 4 ... 0 6 4]\n",
      "Actual: [1 0 4 ... 8 8 4]\n",
      "Accuracy: 0.81375\n",
      "Iteration: 370\n",
      "Predictions: [1 0 4 ... 0 6 4]\n",
      "Actual: [1 0 4 ... 8 8 4]\n",
      "Accuracy: 0.816577380952381\n",
      "Iteration: 380\n",
      "Predictions: [1 0 4 ... 0 6 4]\n",
      "Actual: [1 0 4 ... 8 8 4]\n",
      "Accuracy: 0.8185119047619047\n",
      "Iteration: 390\n",
      "Predictions: [1 0 4 ... 0 6 4]\n",
      "Actual: [1 0 4 ... 8 8 4]\n",
      "Accuracy: 0.8209821428571429\n",
      "Iteration: 400\n",
      "Predictions: [1 0 4 ... 0 6 4]\n",
      "Actual: [1 0 4 ... 8 8 4]\n",
      "Accuracy: 0.823125\n",
      "Iteration: 410\n",
      "Predictions: [1 0 4 ... 0 6 4]\n",
      "Actual: [1 0 4 ... 8 8 4]\n",
      "Accuracy: 0.8250595238095239\n",
      "Iteration: 420\n",
      "Predictions: [1 0 4 ... 0 6 4]\n",
      "Actual: [1 0 4 ... 8 8 4]\n",
      "Accuracy: 0.8269047619047619\n",
      "Iteration: 430\n",
      "Predictions: [1 0 4 ... 0 6 4]\n",
      "Actual: [1 0 4 ... 8 8 4]\n",
      "Accuracy: 0.8284523809523809\n",
      "Iteration: 440\n",
      "Predictions: [1 0 4 ... 0 6 4]\n",
      "Actual: [1 0 4 ... 8 8 4]\n",
      "Accuracy: 0.829672619047619\n",
      "Iteration: 450\n",
      "Predictions: [1 0 4 ... 0 6 4]\n",
      "Actual: [1 0 4 ... 8 8 4]\n",
      "Accuracy: 0.8313690476190476\n",
      "Iteration: 460\n",
      "Predictions: [1 0 4 ... 0 6 4]\n",
      "Actual: [1 0 4 ... 8 8 4]\n",
      "Accuracy: 0.833452380952381\n",
      "Iteration: 470\n",
      "Predictions: [1 0 4 ... 0 6 4]\n",
      "Actual: [1 0 4 ... 8 8 4]\n",
      "Accuracy: 0.8349702380952381\n",
      "Iteration: 480\n",
      "Predictions: [1 0 4 ... 0 6 4]\n",
      "Actual: [1 0 4 ... 8 8 4]\n",
      "Accuracy: 0.836577380952381\n",
      "Iteration: 490\n",
      "Predictions: [1 0 4 ... 0 6 4]\n",
      "Actual: [1 0 4 ... 8 8 4]\n",
      "Accuracy: 0.8383630952380953\n",
      "Iteration: 500\n",
      "Predictions: [1 0 4 ... 0 6 4]\n",
      "Actual: [1 0 4 ... 8 8 4]\n",
      "Accuracy: 0.8392857142857143\n"
     ]
    }
   ],
   "source": [
    "W1, b1, W2, b2 = train_model(train_X, train_y)"
   ],
   "metadata": {
    "collapsed": false,
    "ExecuteTime": {
     "end_time": "2024-04-11T15:43:11.200037Z",
     "start_time": "2024-04-11T15:42:31.327311500Z"
    }
   },
   "id": "f6d970274773ca04",
   "execution_count": 194
  },
  {
   "cell_type": "code",
   "outputs": [],
   "source": [
    "def make_predictions(X, W1, b1, W2, b2):\n",
    "    _, _, _, A2 = forward_prop(X, W1, b1, W2, b2)\n",
    "    predictions = get_predictions(A2)\n",
    "    return predictions\n",
    "\n",
    "def test_prediction(index, W1, b1, W2, b2):\n",
    "    current_image = train_X[:, index, None]\n",
    "    prediction = make_predictions(train_X[:, index, None], W1, b1, W2, b2)\n",
    "    label = train_y[index]\n",
    "    print(\"Prediction: \", prediction)\n",
    "    print(\"Label: \", label)\n",
    "    \n",
    "    current_image = current_image.reshape((28, 28)) * 255\n",
    "    plt.gray()\n",
    "    plt.imshow(current_image, interpolation='nearest')\n",
    "    plt.show()"
   ],
   "metadata": {
    "collapsed": false,
    "ExecuteTime": {
     "end_time": "2024-04-11T15:43:13.402015500Z",
     "start_time": "2024-04-11T15:43:13.393021Z"
    }
   },
   "id": "76c76221cec44a53",
   "execution_count": 195
  },
  {
   "cell_type": "code",
   "outputs": [
    {
     "name": "stdout",
     "output_type": "stream",
     "text": [
      "Prediction:  [1]\n",
      "Label:  1\n"
     ]
    },
    {
     "data": {
      "text/plain": "<Figure size 640x480 with 1 Axes>",
      "image/png": "[encoded data removed]"
     },
     "metadata": {},
     "output_type": "display_data"
    },
    {
     "name": "stdout",
     "output_type": "stream",
     "text": [
      "Prediction:  [0]\n",
      "Label:  0\n"
     ]
    },
    {
     "data": {
      "text/plain": "<Figure size 640x480 with 1 Axes>",
      "image/png": "[encoded data removed]"
     },
     "metadata": {},
     "output_type": "display_data"
    },
    {
     "name": "stdout",
     "output_type": "stream",
     "text": [
      "Prediction:  [4]\n",
      "Label:  4\n"
     ]
    },
    {
     "data": {
      "text/plain": "<Figure size 640x480 with 1 Axes>",
      "image/png": "[encoded data removed]"
     },
     "metadata": {},
     "output_type": "display_data"
    },
    {
     "name": "stdout",
     "output_type": "stream",
     "text": [
      "Prediction:  [1]\n",
      "Label:  1\n"
     ]
    },
    {
     "data": {
      "text/plain": "<Figure size 640x480 with 1 Axes>",
      "image/png": "[encoded data removed]"
     },
     "metadata": {},
     "output_type": "display_data"
    },
    {
     "name": "stdout",
     "output_type": "stream",
     "text": [
      "Prediction:  [0]\n",
      "Label:  0\n"
     ]
    },
    {
     "data": {
      "text/plain": "<Figure size 640x480 with 1 Axes>",
      "image/png": "[encoded data removed]"
     },
     "metadata": {},
     "output_type": "display_data"
    },
    {
     "name": "stdout",
     "output_type": "stream",
     "text": [
      "Prediction:  [5]\n",
      "Label:  5\n"
     ]
    },
    {
     "data": {
      "text/plain": "<Figure size 640x480 with 1 Axes>",
      "image/png": "[encoded data removed]"
     },
     "metadata": {},
     "output_type": "display_data"
    },
    {
     "name": "stdout",
     "output_type": "stream",
     "text": [
      "Prediction:  [6]\n",
      "Label:  6\n"
     ]
    },
    {
     "data": {
      "text/plain": "<Figure size 640x480 with 1 Axes>",
      "image/png": "[encoded data removed]"
     },
     "metadata": {},
     "output_type": "display_data"
    },
    {
     "name": "stdout",
     "output_type": "stream",
     "text": [
      "Prediction:  [2]\n",
      "Label:  2\n"
     ]
    },
    {
     "data": {
      "text/plain": "<Figure size 640x480 with 1 Axes>",
      "image/png": "[encoded data removed]"
     },
     "metadata": {},
     "output_type": "display_data"
    },
    {
     "name": "stdout",
     "output_type": "stream",
     "text": [
      "Prediction:  [4]\n",
      "Label:  4\n"
     ]
    },
    {
     "data": {
      "text/plain": "<Figure size 640x480 with 1 Axes>",
      "image/png": "[encoded data removed]"
     },
     "metadata": {},
     "output_type": "display_data"
    },
    {
     "name": "stdout",
     "output_type": "stream",
     "text": [
      "Prediction:  [9]\n",
      "Label:  4\n"
     ]
    },
    {
     "data": {
      "text/plain": "<Figure size 640x480 with 1 Axes>",
      "image/png": "[encoded data removed]"
     },
     "metadata": {},
     "output_type": "display_data"
    }
   ],
   "source": [
    "for i in range(10):\n",
    "    test_prediction(i, W1, b1, W2, b2)"
   ],
   "metadata": {
    "collapsed": false,
    "ExecuteTime": {
     "end_time": "2024-04-11T15:43:15.868014100Z",
     "start_time": "2024-04-11T15:43:14.257297900Z"
    }
   },
   "id": "1fc2a81f17770fc5",
   "execution_count": 196
  },
  {
   "cell_type": "code",
   "outputs": [
    {
     "name": "stdout",
     "output_type": "stream",
     "text": [
      "Predictions: [4 1 9 ... 1 1 0]\n",
      "Actual: [2 1 9 ... 1 1 0]\n"
     ]
    },
    {
     "data": {
      "text/plain": "0.8398809523809524"
     },
     "execution_count": 197,
     "metadata": {},
     "output_type": "execute_result"
    }
   ],
   "source": [
    "# Predicting from cross_validation data-set\n",
    "cv_preds = make_predictions(cv_X, W1, b1, W2, b2)\n",
    "get_accuracy(cv_preds, cv_y)"
   ],
   "metadata": {
    "collapsed": false,
    "ExecuteTime": {
     "end_time": "2024-04-11T15:43:15.924551800Z",
     "start_time": "2024-04-11T15:43:15.849020900Z"
    }
   },
   "id": "ce7e36e88b551fe8",
   "execution_count": 197
  },
  {
   "cell_type": "code",
   "outputs": [
    {
     "data": {
      "text/plain": "(784, 33600)"
     },
     "execution_count": 199,
     "metadata": {},
     "output_type": "execute_result"
    }
   ],
   "source": [
    "train_X.shape"
   ],
   "metadata": {
    "collapsed": false,
    "ExecuteTime": {
     "end_time": "2024-04-11T15:43:28.748238800Z",
     "start_time": "2024-04-11T15:43:28.734026700Z"
    }
   },
   "id": "ce1b71872b1e1ce2",
   "execution_count": 199
  },
  {
   "cell_type": "code",
   "outputs": [
    {
     "data": {
      "text/plain": "(784, 28000)"
     },
     "execution_count": 198,
     "metadata": {},
     "output_type": "execute_result"
    }
   ],
   "source": [
    "test.T.shape"
   ],
   "metadata": {
    "collapsed": false,
    "ExecuteTime": {
     "end_time": "2024-04-11T15:43:18.422750500Z",
     "start_time": "2024-04-11T15:43:18.344363200Z"
    }
   },
   "id": "616f9681f070830b",
   "execution_count": 198
  },
  {
   "cell_type": "code",
   "outputs": [
    {
     "name": "stderr",
     "output_type": "stream",
     "text": [
      "C:\\Users\\bholu\\AppData\\Local\\Temp\\ipykernel_17696\\3825879663.py:10: RuntimeWarning: overflow encountered in exp\n",
      "  A = np.exp(Z) / sum(np.exp(Z))\n",
      "C:\\Users\\bholu\\AppData\\Local\\Temp\\ipykernel_17696\\3825879663.py:10: RuntimeWarning: invalid value encountered in divide\n",
      "  A = np.exp(Z) / sum(np.exp(Z))\n"
     ]
    }
   ],
   "source": [
    "y_test = make_predictions(test.T, W1, b1, W2, b2)"
   ],
   "metadata": {
    "collapsed": false,
    "ExecuteTime": {
     "end_time": "2024-04-11T15:46:01.404221400Z",
     "start_time": "2024-04-11T15:46:01.056711600Z"
    }
   },
   "id": "4e9da4e51ff40c13",
   "execution_count": 205
  },
  {
   "cell_type": "code",
   "outputs": [],
   "source": [
    "submission = pd.DataFrame({'ImageId': range(1, test.shape[0] + 1), 'Label': y_test})\n",
    "submission.to_csv('submission.csv', index=False)"
   ],
   "metadata": {
    "collapsed": false,
    "ExecuteTime": {
     "end_time": "2024-04-11T15:46:17.897564100Z",
     "start_time": "2024-04-11T15:46:17.846359600Z"
    }
   },
   "id": "9407e408acfe79e3",
   "execution_count": 207
  },
  {
   "cell_type": "code",
   "outputs": [],
   "source": [],
   "metadata": {
    "collapsed": false
   },
   "id": "ff0c761d4ae92762"
  }
 ],
 "metadata": {
  "kernelspec": {
   "display_name": "Python 3",
   "language": "python",
   "name": "python3"
  },
  "language_info": {
   "codemirror_mode": {
    "name": "ipython",
    "version": 2
   },
   "file_extension": ".py",
   "mimetype": "text/x-python",
   "name": "python",
   "nbconvert_exporter": "python",
   "pygments_lexer": "ipython2",
   "version": "2.7.6"
  }
 },
 "nbformat": 4,
 "nbformat_minor": 5
}
